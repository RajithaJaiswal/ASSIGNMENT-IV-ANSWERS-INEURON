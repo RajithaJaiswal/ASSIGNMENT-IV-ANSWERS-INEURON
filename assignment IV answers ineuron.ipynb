{
 "cells": [
  {
   "cell_type": "markdown",
   "id": "9d54fb18",
   "metadata": {},
   "source": [
    "1. What exactly is []?\n",
    "2. In a list of values stored in a variable called spam, how would you assign the value 'hello' as the third value? (Assume [2, 4, 6, 8, 10] are in spam.)\n",
    "Let's pretend the spam includes the list ['a', 'b', 'c', 'd'] for the next three queries.\n",
    "3. What is the value of spam[int(int('3' * 2) / 11)]?\n",
    "4. What is the value of spam[-1]?\n",
    "5. What is the value of spam[:2]?\n",
    "Let's pretend bacon has the list [3.14, 'cat,' 11, 'cat,' True] for the next three questions.\n",
    "6. What is the value of bacon.index('cat')?\n",
    "7. How does bacon.append(99) change the look of the list value in bacon?\n",
    "8. How does bacon.remove('cat') change the look of the list in bacon?\n",
    "9. What are the list concatenation and list replication operators?\n",
    "10. What is difference between the list methods append() and insert()?\n",
    "11. What are the two methods for removing items from a list?\n",
    "12. Describe how list values and string values are identical.\n",
    "13. What's the difference between tuples and lists?\n",
    "14. How do you type a tuple value that only contains the integer 42?\n",
    "15. How do you get a list value's tuple form? How do you get a tuple value's list form?\n",
    "16. Variables that \"contain\" list values are not necessarily lists themselves. Instead, what do they contain?\n",
    "17. How do you distinguish between copy.copy() and copy.deepcopy()?"
   ]
  },
  {
   "cell_type": "code",
   "execution_count": null,
   "id": "fabaf80c",
   "metadata": {},
   "outputs": [],
   "source": [
    "1 ans: The empty list value, which is a list value that contains no items."
   ]
  },
  {
   "cell_type": "markdown",
   "id": "b96fbf3f",
   "metadata": {},
   "source": [
    "2 ans:spam[2] = 'hello' (Notice that the third value in a list is at index 2 because the first index is 0.)"
   ]
  },
  {
   "cell_type": "code",
   "execution_count": 9,
   "id": "7f0c46c9",
   "metadata": {},
   "outputs": [],
   "source": [
    "l=[2,4,6,8,10]\n",
    "l.insert(2,'hello')"
   ]
  },
  {
   "cell_type": "code",
   "execution_count": 10,
   "id": "12fe7cdf",
   "metadata": {},
   "outputs": [
    {
     "data": {
      "text/plain": [
       "[2, 4, 'hello', 6, 8, 10]"
      ]
     },
     "execution_count": 10,
     "metadata": {},
     "output_type": "execute_result"
    }
   ],
   "source": [
    "l"
   ]
  },
  {
   "cell_type": "markdown",
   "id": "85311b60",
   "metadata": {},
   "source": [
    "3 ans:'d' (Note that '3' * 2 is the string '33', which is passed to int() before being divided by 11. This eventually evaluates to 3. Expressions can be used wherever values are used.)"
   ]
  },
  {
   "cell_type": "markdown",
   "id": "79e569aa",
   "metadata": {},
   "source": [
    "4 ans:'d' (Negative indexes count from the end.)"
   ]
  },
  {
   "cell_type": "markdown",
   "id": "4373b565",
   "metadata": {},
   "source": [
    "5 ans:"
   ]
  },
  {
   "cell_type": "code",
   "execution_count": 24,
   "id": "c8b17296",
   "metadata": {},
   "outputs": [
    {
     "data": {
      "text/plain": [
       "['a', 'b']"
      ]
     },
     "execution_count": 24,
     "metadata": {},
     "output_type": "execute_result"
    }
   ],
   "source": [
    "l4=['a', 'b', 'c', 'd']\n",
    "l4[:2]"
   ]
  },
  {
   "cell_type": "markdown",
   "id": "85ca633d",
   "metadata": {},
   "source": [
    "6 ans:1"
   ]
  },
  {
   "cell_type": "markdown",
   "id": "74e61708",
   "metadata": {},
   "source": [
    "7 ans:"
   ]
  },
  {
   "cell_type": "code",
   "execution_count": 15,
   "id": "c81b8f3e",
   "metadata": {},
   "outputs": [],
   "source": [
    "l1= [3.14, 'cat', 11, 'cat', True]\n",
    "l1.append(99)"
   ]
  },
  {
   "cell_type": "code",
   "execution_count": 16,
   "id": "1c7a23bb",
   "metadata": {},
   "outputs": [
    {
     "data": {
      "text/plain": [
       "[3.14, 'cat', 11, 'cat', True, 99]"
      ]
     },
     "execution_count": 16,
     "metadata": {},
     "output_type": "execute_result"
    }
   ],
   "source": [
    "l1"
   ]
  },
  {
   "cell_type": "markdown",
   "id": "f5a11306",
   "metadata": {},
   "source": [
    "8 ans:"
   ]
  },
  {
   "cell_type": "code",
   "execution_count": 21,
   "id": "eed26523",
   "metadata": {},
   "outputs": [],
   "source": [
    "l2=[3.14, 'cat', 11, 'cat', True]\n",
    "l2.remove('cat')"
   ]
  },
  {
   "cell_type": "code",
   "execution_count": 22,
   "id": "c89d1329",
   "metadata": {},
   "outputs": [
    {
     "data": {
      "text/plain": [
       "[3.14, 11, 'cat', True]"
      ]
     },
     "execution_count": 22,
     "metadata": {},
     "output_type": "execute_result"
    }
   ],
   "source": [
    "l2"
   ]
  },
  {
   "cell_type": "markdown",
   "id": "e993628a",
   "metadata": {},
   "source": [
    "9 ans:The operator for list concatenation is +, while the operator for replication is *."
   ]
  },
  {
   "cell_type": "markdown",
   "id": "1cda3b82",
   "metadata": {},
   "source": [
    "10 ans:While append() will add values only to the end of a list, insert() can add them anywhere in the list."
   ]
  },
  {
   "cell_type": "markdown",
   "id": "a97a95bc",
   "metadata": {},
   "source": [
    "11 ans:The del statement and the remove() list method are two ways to remove values from a list."
   ]
  },
  {
   "cell_type": "code",
   "execution_count": 27,
   "id": "6d49b23d",
   "metadata": {},
   "outputs": [],
   "source": [
    "l5=[1,2,3,4]\n",
    "l5.remove(3)"
   ]
  },
  {
   "cell_type": "code",
   "execution_count": 31,
   "id": "c5ab5e73",
   "metadata": {},
   "outputs": [
    {
     "data": {
      "text/plain": [
       "[1, 2, 4]"
      ]
     },
     "execution_count": 31,
     "metadata": {},
     "output_type": "execute_result"
    }
   ],
   "source": [
    "l5"
   ]
  },
  {
   "cell_type": "code",
   "execution_count": 41,
   "id": "7bbbbdfa",
   "metadata": {},
   "outputs": [],
   "source": [
    "del l5[1]"
   ]
  },
  {
   "cell_type": "code",
   "execution_count": 42,
   "id": "af1344b6",
   "metadata": {},
   "outputs": [
    {
     "data": {
      "text/plain": [
       "[1, 4]"
      ]
     },
     "execution_count": 42,
     "metadata": {},
     "output_type": "execute_result"
    }
   ],
   "source": [
    "l5"
   ]
  },
  {
   "cell_type": "markdown",
   "id": "706c1133",
   "metadata": {},
   "source": [
    "12 ans: Both lists and strings can be passed to len(), have indexes and slices, be used in for loops, be concatenated or replicated, and be used with the in and not in operators."
   ]
  },
  {
   "cell_type": "markdown",
   "id": "a3155ba7",
   "metadata": {},
   "source": [
    "13 ans:The Key Difference between List and Tuples is that the List is written in square brackets [ ] while Tuples are written in round brackets ( ).Lists are mutable, they can have values added, removed, or changed. Tuples are immutable,they cannot be changed at all. "
   ]
  },
  {
   "cell_type": "markdown",
   "id": "edff55a3",
   "metadata": {},
   "source": [
    "14 ans:(42,) (The trailing comma is mandatory.)"
   ]
  },
  {
   "cell_type": "markdown",
   "id": "2980b71d",
   "metadata": {},
   "source": [
    "15 ans:The tuple() and list() functions, respectively."
   ]
  },
  {
   "cell_type": "markdown",
   "id": "2bb6c9f4",
   "metadata": {},
   "source": [
    "16 ans:They contain references to list values."
   ]
  },
  {
   "cell_type": "markdown",
   "id": "659c35d9",
   "metadata": {},
   "source": [
    "17 ans:The copy.copy() function will do a shallow copy of a list, while the copy.deepcopy() function will do a deep copy of a list. That is, only copy.deepcopy() will duplicate any lists inside the list."
   ]
  }
 ],
 "metadata": {
  "kernelspec": {
   "display_name": "Python 3 (ipykernel)",
   "language": "python",
   "name": "python3"
  },
  "language_info": {
   "codemirror_mode": {
    "name": "ipython",
    "version": 3
   },
   "file_extension": ".py",
   "mimetype": "text/x-python",
   "name": "python",
   "nbconvert_exporter": "python",
   "pygments_lexer": "ipython3",
   "version": "3.9.12"
  }
 },
 "nbformat": 4,
 "nbformat_minor": 5
}
